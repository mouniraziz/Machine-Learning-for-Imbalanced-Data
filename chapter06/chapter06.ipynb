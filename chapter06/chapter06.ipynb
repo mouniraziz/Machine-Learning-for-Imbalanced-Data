{
 "cells": [
  {
   "cell_type": "markdown",
   "metadata": {
    "colab_type": "text",
    "id": "view-in-github"
   },
   "source": [
    "<a href=\"https://colab.research.google.com/github/packtpublishing/Machine-Learning-for-Imbalanced-Data/blob/main/chapter06/chapter06.ipynb\" target=\"_parent\"><img src=\"https://colab.research.google.com/assets/colab-badge.svg\" alt=\"Open In Colab\"/></a>"
   ]
  },
  {
   "cell_type": "code",
   "execution_count": null,
   "metadata": {
    "id": "HWvDDMDRoZ-9"
   },
   "outputs": [],
   "source": []
  },
  {
   "cell_type": "code",
   "execution_count": 1,
   "metadata": {
    "id": "BQS5DNgYogfs"
   },
   "outputs": [],
   "source": [
    "import torch\n",
    "import torch.optim as optim\n",
    "\n",
    "\n",
    "class Net(torch.nn.Module):\n",
    "    def __init__(self):\n",
    "        super(Net, self).__init__()\n",
    "        self.fc1 = torch.nn.Linear(4, 10)\n",
    "        self.fc2 = torch.nn.Linear(10, 3)\n",
    "\n",
    "    def forward(self, x):\n",
    "        x = torch.relu(self.fc1(x))\n",
    "        x = self.fc2(x)\n",
    "        return x\n",
    "\n",
    "\n",
    "# Create an instance of the network\n",
    "net = Net()\n",
    "\n",
    "# Define a loss function and an optimizer\n",
    "criterion = torch.nn.CrossEntropyLoss()\n",
    "optimizer = optim.SGD(net.parameters(), lr=0.01, momentum=0.9)"
   ]
  },
  {
   "cell_type": "code",
   "execution_count": 2,
   "metadata": {
    "colab": {
     "base_uri": "https://localhost:8080/"
    },
    "id": "zYm3bpUmotie",
    "outputId": "f78e3bbc-b522-4aa9-e847-9e640d788ee8"
   },
   "outputs": [
    {
     "name": "stdout",
     "output_type": "stream",
     "text": [
      "Epoch 1, Loss: 1.106634497642517\n",
      "Epoch 2, Loss: 1.1064313650131226\n",
      "Epoch 3, Loss: 1.106048822402954\n",
      "Epoch 4, Loss: 1.1055139303207397\n",
      "Epoch 5, Loss: 1.1048434972763062\n",
      "Epoch 6, Loss: 1.1040562391281128\n",
      "Epoch 7, Loss: 1.1031696796417236\n",
      "Epoch 8, Loss: 1.1021977663040161\n",
      "Epoch 9, Loss: 1.1011550426483154\n",
      "Epoch 10, Loss: 1.1000559329986572\n",
      "Epoch 11, Loss: 1.0989222526550293\n",
      "Epoch 12, Loss: 1.097750186920166\n",
      "Epoch 13, Loss: 1.0965529680252075\n",
      "Epoch 14, Loss: 1.095350742340088\n",
      "Epoch 15, Loss: 1.0941458940505981\n",
      "Epoch 16, Loss: 1.092948079109192\n",
      "Epoch 17, Loss: 1.0917537212371826\n",
      "Epoch 18, Loss: 1.090571641921997\n",
      "Epoch 19, Loss: 1.089408040046692\n",
      "Epoch 20, Loss: 1.0882583856582642\n",
      "Epoch 21, Loss: 1.0871268510818481\n",
      "Epoch 22, Loss: 1.086012840270996\n",
      "Epoch 23, Loss: 1.0849071741104126\n",
      "Epoch 24, Loss: 1.0838147401809692\n",
      "Epoch 25, Loss: 1.0827362537384033\n",
      "Epoch 26, Loss: 1.0816681385040283\n",
      "Epoch 27, Loss: 1.0806125402450562\n",
      "Epoch 28, Loss: 1.0795750617980957\n",
      "Epoch 29, Loss: 1.0785531997680664\n",
      "Epoch 30, Loss: 1.0775458812713623\n",
      "Epoch 31, Loss: 1.076555609703064\n",
      "Epoch 32, Loss: 1.075580358505249\n",
      "Epoch 33, Loss: 1.0746153593063354\n",
      "Epoch 34, Loss: 1.073663592338562\n",
      "Epoch 35, Loss: 1.0727332830429077\n",
      "Epoch 36, Loss: 1.0718227624893188\n",
      "Epoch 37, Loss: 1.0709248781204224\n",
      "Epoch 38, Loss: 1.0700379610061646\n",
      "Epoch 39, Loss: 1.069158911705017\n",
      "Epoch 40, Loss: 1.0682908296585083\n",
      "Epoch 41, Loss: 1.0674409866333008\n",
      "Epoch 42, Loss: 1.0666011571884155\n",
      "Epoch 43, Loss: 1.0657665729522705\n",
      "Epoch 44, Loss: 1.06494140625\n",
      "Epoch 45, Loss: 1.0641268491744995\n",
      "Epoch 46, Loss: 1.0633186101913452\n",
      "Epoch 47, Loss: 1.0625176429748535\n",
      "Epoch 48, Loss: 1.061723232269287\n",
      "Epoch 49, Loss: 1.0609318017959595\n",
      "Epoch 50, Loss: 1.0601439476013184\n",
      "Epoch 51, Loss: 1.0593634843826294\n",
      "Epoch 52, Loss: 1.058598518371582\n",
      "Epoch 53, Loss: 1.0578502416610718\n",
      "Epoch 54, Loss: 1.0571084022521973\n",
      "Epoch 55, Loss: 1.056376338005066\n",
      "Epoch 56, Loss: 1.0556470155715942\n",
      "Epoch 57, Loss: 1.0549209117889404\n",
      "Epoch 58, Loss: 1.0541995763778687\n",
      "Epoch 59, Loss: 1.0534807443618774\n",
      "Epoch 60, Loss: 1.0527671575546265\n",
      "Epoch 61, Loss: 1.0520657300949097\n",
      "Epoch 62, Loss: 1.0513666868209839\n",
      "Epoch 63, Loss: 1.050673007965088\n",
      "Epoch 64, Loss: 1.0499842166900635\n",
      "Epoch 65, Loss: 1.0492897033691406\n",
      "Epoch 66, Loss: 1.0486010313034058\n",
      "Epoch 67, Loss: 1.0479190349578857\n",
      "Epoch 68, Loss: 1.0472301244735718\n",
      "Epoch 69, Loss: 1.046541690826416\n",
      "Epoch 70, Loss: 1.0458598136901855\n",
      "Epoch 71, Loss: 1.0451754331588745\n",
      "Epoch 72, Loss: 1.0444912910461426\n",
      "Epoch 73, Loss: 1.0438152551651\n",
      "Epoch 74, Loss: 1.0431400537490845\n",
      "Epoch 75, Loss: 1.0424648523330688\n",
      "Epoch 76, Loss: 1.04178786277771\n",
      "Epoch 77, Loss: 1.0411057472229004\n",
      "Epoch 78, Loss: 1.040420413017273\n",
      "Epoch 79, Loss: 1.0397335290908813\n",
      "Epoch 80, Loss: 1.0390429496765137\n",
      "Epoch 81, Loss: 1.0383492708206177\n",
      "Epoch 82, Loss: 1.0376543998718262\n",
      "Epoch 83, Loss: 1.0369617938995361\n",
      "Epoch 84, Loss: 1.0362697839736938\n",
      "Epoch 85, Loss: 1.0355808734893799\n",
      "Epoch 86, Loss: 1.034906029701233\n",
      "Epoch 87, Loss: 1.0342373847961426\n",
      "Epoch 88, Loss: 1.0335705280303955\n",
      "Epoch 89, Loss: 1.0329054594039917\n",
      "Epoch 90, Loss: 1.0322422981262207\n",
      "Epoch 91, Loss: 1.0315790176391602\n",
      "Epoch 92, Loss: 1.0309209823608398\n",
      "Epoch 93, Loss: 1.0302847623825073\n",
      "Epoch 94, Loss: 1.0296577215194702\n",
      "Epoch 95, Loss: 1.0290278196334839\n",
      "Epoch 96, Loss: 1.028418779373169\n",
      "Epoch 97, Loss: 1.0278133153915405\n",
      "Epoch 98, Loss: 1.027213454246521\n",
      "Epoch 99, Loss: 1.026615858078003\n",
      "Epoch 100, Loss: 1.026018738746643\n"
     ]
    }
   ],
   "source": [
    "# Example dataset\n",
    "inputs = torch.randn(100, 4)\n",
    "targets = torch.randint(0, 3, (100,))\n",
    "\n",
    "# Train for 100 epochs\n",
    "for epoch in range(100):\n",
    "    # Forward pass\n",
    "    outputs = net(inputs)\n",
    "\n",
    "    # Compute loss\n",
    "    loss = criterion(outputs, targets)\n",
    "\n",
    "    # Backward pass and optimization\n",
    "    optimizer.zero_grad()\n",
    "    loss.backward()\n",
    "    optimizer.step()\n",
    "\n",
    "    # Print the loss for this epoch\n",
    "    print(f\"Epoch {epoch + 1}, Loss: {loss.item()}\")"
   ]
  },
  {
   "cell_type": "code",
   "execution_count": 2,
   "metadata": {
    "id": "RmwzkklCot-z"
   },
   "outputs": [],
   "source": []
  }
 ],
 "metadata": {
  "colab": {
   "authorship_tag": "ABX9TyOmjaLVRTKgBj7F3YgFvA/n",
   "include_colab_link": true,
   "provenance": []
  },
  "kernelspec": {
   "display_name": "Python 3",
   "name": "python3"
  },
  "language_info": {
   "name": "python"
  }
 },
 "nbformat": 4,
 "nbformat_minor": 0
}
